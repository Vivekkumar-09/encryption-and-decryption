{
 "cells": [
  {
   "cell_type": "markdown",
   "id": "2db43b83-d8b1-47ce-a814-82094ce380bb",
   "metadata": {},
   "source": [
    "# ALL THE REQUIRED LIBRARIES"
   ]
  },
  {
   "cell_type": "code",
   "execution_count": 1,
   "id": "cc646300-6e8a-497e-8113-3ba8dfb53fde",
   "metadata": {},
   "outputs": [],
   "source": [
    "from tkinter import *\n",
    "from tkinter.scrolledtext import ScrolledText\n",
    "from Crypto.Cipher import DES"
   ]
  },
  {
   "cell_type": "markdown",
   "id": "52512bfd-10b9-4008-9918-b12ff8c2783f",
   "metadata": {},
   "source": [
    "# DEFINE THE ENCRYPTION FUNCTIONS"
   ]
  },
  {
   "cell_type": "code",
   "execution_count": 2,
   "id": "c5e2ec2c-9fa9-49f8-922c-f4ad131b4095",
   "metadata": {},
   "outputs": [],
   "source": [
    "def encrypt_message():\n",
    "    key = mainKey.get().encode('utf-8')\n",
    "    add = data_entry.get(1.0,END)\n",
    "    add = add[:-1]\n",
    "    \n",
    "    file = open(add,\"r\")\n",
    "    data = file.read().encode('utf-8')\n",
    "    file.close()\n",
    "    \n",
    "    cipher = DES.new(key, DES.MODE_ECB)\n",
    "    data = data.ljust(1024, b' ')  \n",
    "    ciphertext = cipher.encrypt(data)\n",
    "    \n",
    "    file = open(\"cipher_\"+add, \"w\")\n",
    "    file.write(ciphertext.hex())\n",
    "    file.close()\n",
    "    \n",
    "    result_text.set(\"cipher_\"+add)"
   ]
  },
  {
   "cell_type": "markdown",
   "id": "c45096bb-8bab-46cd-8030-505fa2a4c5c7",
   "metadata": {},
   "source": [
    "# DEFINE THE DECRYPTION FUNCTIONS"
   ]
  },
  {
   "cell_type": "code",
   "execution_count": 3,
   "id": "3ec5d0fb-5177-4d59-a540-e05434986ff1",
   "metadata": {},
   "outputs": [],
   "source": [
    "def decrypt_message():\n",
    "    key = mainKey.get().encode('utf-8')\n",
    "    add = data_entry.get(1.0,END)\n",
    "    add = add[:-1]\n",
    "    file = open(add,\"r\")\n",
    "    data = file.read()\n",
    "    file.close()\n",
    "    ciphertext = bytes.fromhex(data)\n",
    "    cipher = DES.new(key, DES.MODE_ECB)\n",
    "    decrypted_data = cipher.decrypt(ciphertext).rstrip(b' ')\n",
    "    file = open(\"plain_\"+add, \"w\")\n",
    "    file.write(decrypted_data.decode('utf-8'))\n",
    "    file.close()\n",
    "    result_text.set(\"plain_\"+add)"
   ]
  },
  {
   "cell_type": "markdown",
   "id": "58484a69-b12e-459e-84bf-3239ff162775",
   "metadata": {},
   "source": [
    "# DEFINE THE CLEAR FUNCTIONS"
   ]
  },
  {
   "cell_type": "code",
   "execution_count": 4,
   "id": "7f2989dd-ed2a-44e4-a73a-805ed722be78",
   "metadata": {},
   "outputs": [],
   "source": [
    "def clear2():\n",
    "    data_entry.delete(1.0,END)\n",
    "\n",
    "def clear3():\n",
    "    result_entry.delete(0,END)\n",
    "\n",
    "def clear1():\n",
    "    key_entry.delete(0,END)"
   ]
  },
  {
   "cell_type": "markdown",
   "id": "a99ea554-4b6b-4460-b587-bfc2f4ecbd20",
   "metadata": {},
   "source": [
    "# CREATE THE MAIN WINDOW"
   ]
  },
  {
   "cell_type": "code",
   "execution_count": 5,
   "id": "6676ab0e-672d-414c-84c4-2e920fb5dfbc",
   "metadata": {},
   "outputs": [],
   "source": [
    "window = Tk()\n",
    "window.title(\"DES Encryption/Decryption\")\n",
    "window.geometry(\"900x600\")\n",
    "window.configure(background=\"lightblue\")\n",
    "\n",
    "data_entry = StringVar()\n",
    "result_text = StringVar()\n",
    "mainKey = StringVar()\n",
    "\n",
    "# ICON\n",
    "image_icon = PhotoImage(file = \"vslogo.png\")\n",
    "window.iconphoto(False, image_icon)"
   ]
  },
  {
   "cell_type": "markdown",
   "id": "b2bc816b-fafc-4225-97f7-575638795e39",
   "metadata": {},
   "source": [
    "# CREATE AND PLACE WIDGETS"
   ]
  },
  {
   "cell_type": "code",
   "execution_count": null,
   "id": "845bea7b-70a1-49ea-8c54-7941912c071d",
   "metadata": {},
   "outputs": [],
   "source": [
    "key_label = Label(window, text=\"Enter Key\", font=(\"Calibri\", 18), bg=\"lightblue\")\n",
    "key_label.place(x=60, y=30)\n",
    "key_entry = Entry(window, textvariable=mainKey, font=(\"Calibri\", 18), width=\"50\")\n",
    "key_entry.place(x=60, y=80)\n",
    "\n",
    "data_label = Label(window, text=\"Enter File Address\", font=(\"Calibri\", 18), bg=\"lightblue\")\n",
    "data_label.place(x=60, y=150)\n",
    "data_entry = ScrolledText(window, font=(\"Calibri\", 18), height=3, width=50)\n",
    "data_entry.place(x=60, y=200)\n",
    "\n",
    "encrypt_button = Button(window, text=\"ENCRYPT\", height = \"1\", width = \"25\", font=(\"Calibri\", 18), bg = \"#ed3833\", command=encrypt_message)\n",
    "encrypt_button.place(x=60, y=330)\n",
    "decrypt_button = Button(window, text=\"DECRYPT\", height = \"1\", width = \"25\", font=(\"Calibri\", 18), bg = \"#00bd56\", command=decrypt_message)\n",
    "decrypt_button.place(x=350, y=330)\n",
    "\n",
    "result_label = Label(window, text=\"Result Address\", font=(\"Calibri\", 18), bg=\"lightblue\")\n",
    "result_label.place(x=60, y=420)\n",
    "result_entry = Entry(window, textvariable=result_text, font=(\"Calibri\", 18), width=\"50\")\n",
    "result_entry.place(x=60, y=470)\n",
    "\n",
    "\n",
    "clear_button1 = Button(window, text=\"Clear\", width=\"8\", height = \"1\", font=(\"Calibri\", 18), command=clear1).place(x=720, y=72)\n",
    "clear_button2 = Button(window, text=\"Clear\", width=\"8\", height = \"1\", font=(\"Calibri\", 18), command=clear2).place(x=720, y=222)\n",
    "clear_button3 = Button(window, text=\"Clear\", width=\"8\", height = \"1\", font=(\"Calibri\", 18), command=clear3).place(x=720, y=462)\n",
    "\n",
    "\n",
    "window.mainloop()"
   ]
  }
 ],
 "metadata": {
  "kernelspec": {
   "display_name": "Python 3 (ipykernel)",
   "language": "python",
   "name": "python3"
  },
  "language_info": {
   "codemirror_mode": {
    "name": "ipython",
    "version": 3
   },
   "file_extension": ".py",
   "mimetype": "text/x-python",
   "name": "python",
   "nbconvert_exporter": "python",
   "pygments_lexer": "ipython3",
   "version": "3.11.1"
  }
 },
 "nbformat": 4,
 "nbformat_minor": 5
}
